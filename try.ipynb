{
 "cells": [
  {
   "cell_type": "code",
   "execution_count": 18,
   "metadata": {},
   "outputs": [
    {
     "name": "stdout",
     "output_type": "stream",
     "text": [
      "{0: 5, 1: 11, 2: 8, 3: 1, 4: 15, 5: 11, 6: 1, 7: 11, 8: 17, 9: 17, 10: 6, 11: 1, 12: 18, 13: 8, 14: 17, 15: 6, 16: 13, 17: 9, 18: 1, 19: 14}\n"
     ]
    }
   ],
   "source": [
    "from src.logger import working_on\n",
    "from src.utils import load_data\n",
    "import pandas as pd\n",
    "import numpy as np\n",
    "from sklearn.feature_extraction.text import CountVectorizer\n",
    "from sklearn.metrics.pairwise import cosine_similarity\n",
    "\n",
    "gt = load_data(kind=\"ground_truth\")\n",
    "compare = pd.read_csv('clusters/tfidf_noun_clusters.csv')\n",
    "skills = load_data(\"skills\")\n",
    "\n",
    "match_id = {}\n",
    "for i in set(gt['cluster']):\n",
    "    gt_id = gt.loc[gt['cluster']==i]['id']\n",
    "    \n",
    "    X = skills[skills['id'].isin(gt_id)]['skills'].values[0][1:-1]\n",
    "    \n",
    "\n",
    "    similarity = np.empty(20)\n",
    "    for j in set(compare['cluster']):\n",
    "        compare_id = compare.loc[compare['cluster']==j]['id']\n",
    "        Y= skills[skills['id'].isin(compare_id)]['skills'].values[0][1:-1]\n",
    "        \n",
    "        # # Jaccord similarity\n",
    "        # set1 = set(X)\n",
    "        # set2 = set(Y)\n",
    "        # similarity[j] = len(set1.intersection(set2)) / len(set1.union(set2))\n",
    "\n",
    "\n",
    "        # Consine similarity \n",
    "        vectorizer = CountVectorizer()\n",
    "        vec = vectorizer.fit_transform([X,Y])\n",
    "        similarity[j] = cosine_similarity(vec[0], vec[1])[0][0]\n",
    "    match_id[i] = similarity.argmax()\n",
    "\n",
    "print(match_id)"
   ]
  }
 ],
 "metadata": {
  "kernelspec": {
   "display_name": "base",
   "language": "python",
   "name": "python3"
  },
  "language_info": {
   "codemirror_mode": {
    "name": "ipython",
    "version": 3
   },
   "file_extension": ".py",
   "mimetype": "text/x-python",
   "name": "python",
   "nbconvert_exporter": "python",
   "pygments_lexer": "ipython3",
   "version": "3.11.4"
  }
 },
 "nbformat": 4,
 "nbformat_minor": 2
}
