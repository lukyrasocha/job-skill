{
 "cells": [
  {
   "cell_type": "code",
   "execution_count": 5,
   "metadata": {},
   "outputs": [
    {
     "ename": "ModuleNotFoundError",
     "evalue": "No module named 'src'",
     "output_type": "error",
     "traceback": [
      "\u001b[0;31m---------------------------------------------------------------------------\u001b[0m",
      "\u001b[0;31mModuleNotFoundError\u001b[0m                       Traceback (most recent call last)",
      "\u001b[1;32m/Users/lurax/Library/CloudStorage/OneDrive-Personal/myWorkspace/school_code/dtu/1-semester/comp-tools-ds/02807-comp-tools/notebooks/doc2vec.ipynb Cell 1\u001b[0m line \u001b[0;36m<cell line: 1>\u001b[0;34m()\u001b[0m\n\u001b[0;32m----> <a href='vscode-notebook-cell:/Users/lurax/Library/CloudStorage/OneDrive-Personal/myWorkspace/school_code/dtu/1-semester/comp-tools-ds/02807-comp-tools/notebooks/doc2vec.ipynb#W0sZmlsZQ%3D%3D?line=0'>1</a>\u001b[0m \u001b[39mfrom\u001b[39;00m \u001b[39msrc\u001b[39;00m\u001b[39m.\u001b[39;00m\u001b[39mdoc2vec\u001b[39;00m \u001b[39mimport\u001b[39;00m Doc2VecWrapper\n\u001b[1;32m      <a href='vscode-notebook-cell:/Users/lurax/Library/CloudStorage/OneDrive-Personal/myWorkspace/school_code/dtu/1-semester/comp-tools-ds/02807-comp-tools/notebooks/doc2vec.ipynb#W0sZmlsZQ%3D%3D?line=2'>3</a>\u001b[0m doc2vec \u001b[39m=\u001b[39m Doc2VecWrapper()\n",
      "\u001b[0;31mModuleNotFoundError\u001b[0m: No module named 'src'"
     ]
    }
   ],
   "source": [
    "from src.doc2vec import Doc2VecWrapper\n",
    "\n",
    "doc2vec = Doc2VecWrapper()"
   ]
  },
  {
   "cell_type": "code",
   "execution_count": null,
   "metadata": {},
   "outputs": [],
   "source": []
  }
 ],
 "metadata": {
  "kernelspec": {
   "display_name": "comp-ds",
   "language": "python",
   "name": "python3"
  },
  "language_info": {
   "codemirror_mode": {
    "name": "ipython",
    "version": 3
   },
   "file_extension": ".py",
   "mimetype": "text/x-python",
   "name": "python",
   "nbconvert_exporter": "python",
   "pygments_lexer": "ipython3",
   "version": "3.10.4"
  }
 },
 "nbformat": 4,
 "nbformat_minor": 2
}
