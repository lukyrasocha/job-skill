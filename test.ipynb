{
 "cells": [
  {
   "cell_type": "code",
   "execution_count": 1,
   "metadata": {},
   "outputs": [],
   "source": [
    "from src.skill import skill_extract\n",
    "import pandas as pd\n"
   ]
  },
  {
   "cell_type": "code",
   "execution_count": 2,
   "metadata": {},
   "outputs": [
    {
     "name": "stderr",
     "output_type": "stream",
     "text": [
      "  0%|          | 0/15 [00:00<?, ?it/s]Asking to truncate to max_length but no maximum length is provided and the model has no predefined maximum length. Default to no truncation.\n",
      "Asking to truncate to max_length but no maximum length is provided and the model has no predefined maximum length. Default to no truncation.\n",
      "100%|██████████| 15/15 [18:17<00:00, 73.19s/it] \n"
     ]
    }
   ],
   "source": [
    "file = pd.read_csv('csv_files/similarity.csv', sep=',')\n",
    "\n",
    "\n",
    "# Given a dictionary in the format of \"id\": \"cluster label\", and return a dictionary \n",
    "# of \"cluster label\": \"skills\"\n",
    "skills = skill_extract(dict(zip(file[\"id\"], file[\"cluster_graph\"])))"
   ]
  },
  {
   "cell_type": "code",
   "execution_count": 12,
   "metadata": {},
   "outputs": [],
   "source": [
    "counts= pd.DataFrame.from_dict(skills.items())\n",
    "counts.to_csv(\"./csv_files/skills.csv\",header=False, index=False)"
   ]
  },
  {
   "cell_type": "code",
   "execution_count": 13,
   "metadata": {},
   "outputs": [
    {
     "data": {
      "text/html": [
       "<div>\n",
       "<style scoped>\n",
       "    .dataframe tbody tr th:only-of-type {\n",
       "        vertical-align: middle;\n",
       "    }\n",
       "\n",
       "    .dataframe tbody tr th {\n",
       "        vertical-align: top;\n",
       "    }\n",
       "\n",
       "    .dataframe thead th {\n",
       "        text-align: right;\n",
       "    }\n",
       "</style>\n",
       "<table border=\"1\" class=\"dataframe\">\n",
       "  <thead>\n",
       "    <tr style=\"text-align: right;\">\n",
       "      <th></th>\n",
       "      <th>0</th>\n",
       "      <th>1</th>\n",
       "    </tr>\n",
       "  </thead>\n",
       "  <tbody>\n",
       "    <tr>\n",
       "      <th>0</th>\n",
       "      <td>0</td>\n",
       "      <td>{'service': 15, 'deliver': 4, 'top': 3, 'class...</td>\n",
       "    </tr>\n",
       "    <tr>\n",
       "      <th>1</th>\n",
       "      <td>1</td>\n",
       "      <td>{'deliver': 12, 'high': 4, 'level': 10, 'servi...</td>\n",
       "    </tr>\n",
       "    <tr>\n",
       "      <th>2</th>\n",
       "      <td>2</td>\n",
       "      <td>{'group': 3, 'conduct': 3, 'prescreene': 2, 'i...</td>\n",
       "    </tr>\n",
       "    <tr>\n",
       "      <th>3</th>\n",
       "      <td>3</td>\n",
       "      <td>{'handle': 3, 'mooring': 1, 'anchor': 1, 'secu...</td>\n",
       "    </tr>\n",
       "    <tr>\n",
       "      <th>4</th>\n",
       "      <td>4</td>\n",
       "      <td>{'strategic': 80, 'role': 17, 'professionally'...</td>\n",
       "    </tr>\n",
       "    <tr>\n",
       "      <th>5</th>\n",
       "      <td>5</td>\n",
       "      <td>{'support': 29, 'ecosystem': 3, 'innovator': 3...</td>\n",
       "    </tr>\n",
       "    <tr>\n",
       "      <th>6</th>\n",
       "      <td>6</td>\n",
       "      <td>{'continuously': 5, 'improve': 9, 'process': 2...</td>\n",
       "    </tr>\n",
       "    <tr>\n",
       "      <th>7</th>\n",
       "      <td>7</td>\n",
       "      <td>{'take': 23, 'lead': 49, 'marketing': 17, 'tea...</td>\n",
       "    </tr>\n",
       "    <tr>\n",
       "      <th>8</th>\n",
       "      <td>8</td>\n",
       "      <td>{'work': 370, 'proactive': 55, 'interpersonal'...</td>\n",
       "    </tr>\n",
       "    <tr>\n",
       "      <th>9</th>\n",
       "      <td>9</td>\n",
       "      <td>{'work': 15, 'independently': 1, 'take': 9, 'r...</td>\n",
       "    </tr>\n",
       "    <tr>\n",
       "      <th>10</th>\n",
       "      <td>10</td>\n",
       "      <td>{'identify': 16, 'algorithm': 2, 'document': 5...</td>\n",
       "    </tr>\n",
       "    <tr>\n",
       "      <th>11</th>\n",
       "      <td>11</td>\n",
       "      <td>{'datum': 2, 'core': 2, 'prepare': 13, 'delive...</td>\n",
       "    </tr>\n",
       "    <tr>\n",
       "      <th>12</th>\n",
       "      <td>12</td>\n",
       "      <td>{'research': 2, 'datum': 14, 'conduct': 5, 'in...</td>\n",
       "    </tr>\n",
       "    <tr>\n",
       "      <th>13</th>\n",
       "      <td>13</td>\n",
       "      <td>{'keep': 2, 'code': 3, 'relevant': 2, 'date': ...</td>\n",
       "    </tr>\n",
       "    <tr>\n",
       "      <th>14</th>\n",
       "      <td>14</td>\n",
       "      <td>{'drive': 454, 'young': 1, 'ambition': 5, 'coa...</td>\n",
       "    </tr>\n",
       "  </tbody>\n",
       "</table>\n",
       "</div>"
      ],
      "text/plain": [
       "     0                                                  1\n",
       "0    0  {'service': 15, 'deliver': 4, 'top': 3, 'class...\n",
       "1    1  {'deliver': 12, 'high': 4, 'level': 10, 'servi...\n",
       "2    2  {'group': 3, 'conduct': 3, 'prescreene': 2, 'i...\n",
       "3    3  {'handle': 3, 'mooring': 1, 'anchor': 1, 'secu...\n",
       "4    4  {'strategic': 80, 'role': 17, 'professionally'...\n",
       "5    5  {'support': 29, 'ecosystem': 3, 'innovator': 3...\n",
       "6    6  {'continuously': 5, 'improve': 9, 'process': 2...\n",
       "7    7  {'take': 23, 'lead': 49, 'marketing': 17, 'tea...\n",
       "8    8  {'work': 370, 'proactive': 55, 'interpersonal'...\n",
       "9    9  {'work': 15, 'independently': 1, 'take': 9, 'r...\n",
       "10  10  {'identify': 16, 'algorithm': 2, 'document': 5...\n",
       "11  11  {'datum': 2, 'core': 2, 'prepare': 13, 'delive...\n",
       "12  12  {'research': 2, 'datum': 14, 'conduct': 5, 'in...\n",
       "13  13  {'keep': 2, 'code': 3, 'relevant': 2, 'date': ...\n",
       "14  14  {'drive': 454, 'young': 1, 'ambition': 5, 'coa..."
      ]
     },
     "execution_count": 13,
     "metadata": {},
     "output_type": "execute_result"
    }
   ],
   "source": [
    "counts"
   ]
  }
 ],
 "metadata": {
  "kernelspec": {
   "display_name": "base",
   "language": "python",
   "name": "python3"
  },
  "language_info": {
   "codemirror_mode": {
    "name": "ipython",
    "version": 3
   },
   "file_extension": ".py",
   "mimetype": "text/x-python",
   "name": "python",
   "nbconvert_exporter": "python",
   "pygments_lexer": "ipython3",
   "version": "3.11.4"
  }
 },
 "nbformat": 4,
 "nbformat_minor": 2
}
